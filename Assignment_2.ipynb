{
  "nbformat": 4,
  "nbformat_minor": 0,
  "metadata": {
    "colab": {
      "name": "Assignment 2",
      "provenance": [],
      "authorship_tag": "ABX9TyOphRyf1A+ksuaRJU24lkUp",
      "include_colab_link": true
    },
    "kernelspec": {
      "name": "python3",
      "display_name": "Python 3"
    }
  },
  "cells": [
    {
      "cell_type": "markdown",
      "metadata": {
        "id": "view-in-github",
        "colab_type": "text"
      },
      "source": [
        "<a href=\"https://colab.research.google.com/github/meghana5757/aasignment1/blob/master/Assignment_2.ipynb\" target=\"_parent\"><img src=\"https://colab.research.google.com/assets/colab-badge.svg\" alt=\"Open In Colab\"/></a>"
      ]
    },
    {
      "cell_type": "code",
      "metadata": {
        "id": "AYsmDC1LWGW5",
        "colab_type": "code",
        "colab": {}
      },
      "source": [
        " \n",
        "# using \"with statement\" with open() function\n",
        "with open('sample.txt', \"r\") \n",
        " file_object:\n",
        "    # read file content\n",
        "    data = file_object.read()\n",
        "    # print file contents\n",
        "    print(data)\n",
        "# Check if file is closed\n",
        "if file_object.closed == False:\n",
        "    print('File is not closed')\n",
        "else:\n",
        "    print('File is closed')"
      ],
      "execution_count": null,
      "outputs": []
    },
    {
      "cell_type": "code",
      "metadata": {
        "id": "yO0u2G57WRUU",
        "colab_type": "code",
        "colab": {}
      },
      "source": [
        " \n",
        "# Python program to remove file and directory\n",
        " \n",
        "        \n",
        " \n",
        "import os   \n",
        " \n",
        "file = 'D:/Pycharm projects/GeeksforGeeks/Authors/Nikhil'\n",
        " \n",
        " \n",
        "try:  \n",
        " \n",
        "    os.remove(path)  \n",
        " \n",
        "    print(\"% s removed successfully\" % path)  \n",
        " \n",
        "except OSError as error:  \n",
        " \n",
        "    print(error)  \n",
        " \n",
        "    print(\"File  can not be removed\")"
      ],
      "execution_count": null,
      "outputs": []
    },
    {
      "cell_type": "code",
      "metadata": {
        "id": "tTAFBMseWUON",
        "colab_type": "code",
        "colab": {}
      },
      "source": [
        " \n",
        "# create and access the elements\n",
        "my_list = ['m', 'e', 'g', 'h', 'n','a']\n",
        "print(my_list[0])\n",
        "print(my_list[1])\n",
        "print(my_list[2])\n",
        "print(my_list[3])\n",
        "print(my_list[4])\n",
        "print(my_list[5])"
      ],
      "execution_count": null,
      "outputs": []
    },
    {
      "cell_type": "code",
      "metadata": {
        "id": "WrFQ_BdCWYNu",
        "colab_type": "code",
        "colab": {}
      },
      "source": [
        " \n",
        "#split the file\n",
        "str = \"This is a test\"\n",
        "print(str.split())"
      ],
      "execution_count": null,
      "outputs": []
    },
    {
      "cell_type": "code",
      "metadata": {
        "id": "QAqdme7eWabf",
        "colab_type": "code",
        "colab": {}
      },
      "source": [
        " \n",
        "# try and except\n",
        "try:\n",
        "  print(x)\n",
        "except NameError:\n",
        "  print(\"Variable x is not defined\")\n",
        "except:\n",
        "  print(\"Something else went wrong\")"
      ],
      "execution_count": null,
      "outputs": []
    }
  ]
}
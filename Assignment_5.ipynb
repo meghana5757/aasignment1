{
  "nbformat": 4,
  "nbformat_minor": 0,
  "metadata": {
    "colab": {
      "name": "Assignment 5",
      "provenance": [],
      "authorship_tag": "ABX9TyPr/N3SrUwPAjYls5lx/Qa4",
      "include_colab_link": true
    },
    "kernelspec": {
      "name": "python3",
      "display_name": "Python 3"
    }
  },
  "cells": [
    {
      "cell_type": "markdown",
      "metadata": {
        "id": "view-in-github",
        "colab_type": "text"
      },
      "source": [
        "<a href=\"https://colab.research.google.com/github/meghana5757/aasignment1/blob/master/Assignment_5.ipynb\" target=\"_parent\"><img src=\"https://colab.research.google.com/assets/colab-badge.svg\" alt=\"Open In Colab\"/></a>"
      ]
    },
    {
      "cell_type": "code",
      "metadata": {
        "id": "moVX4yMxAhv_",
        "colab_type": "code",
        "colab": {}
      },
      "source": [
        " \n",
        "In [ ]:\n",
        "#pay computation to employee\n",
        "score = input(\"Enter score: \")\n",
        "score = float(score)\n",
        "if score>1.0 or score<0.0 :\n",
        "  print(\"error\")\n",
        "elif score>=0.9 :\n",
        "  print ('A')\n",
        "elif score>=0.8 :\n",
        "  print ('B')\n",
        "elif score>=0.7 :\n",
        "  print ('C') \n",
        "elif score>=0.6 :\n",
        "  print ('D')\n",
        "else :\n",
        "  print ('F')\n",
        "Enter score: 0.95\n",
        "A\n",
        "\n",
        "In [23]:\n",
        "#using try and except \n",
        "try:\n",
        "    hour = int(input(\"Enter Hour: \"))\n",
        "    rate = int(input(\"Enter Rate: \"))\n",
        "    if hour <= 40:\n",
        "        print(hour * rate)\n",
        "    elif hour > 40:\n",
        "        print((hour * rate)+(hour - 40) * (rate * 0.5))\n",
        "except:\n",
        "    print(\"error,please enter numeric input\")\n",
        "Enter Hour: 20\n",
        "Enter Rate: nine\n",
        "error,please enter numeric input\n",
        "\n",
        "In [32]:\n",
        "#to prompt a score\n",
        "hrs = input(\"Enter Hours:\")\n",
        "h = float(hrs)\n",
        "xx = input(\"Enter the Rate:\")\n",
        "x = float(xx)\n",
        "if h <= 40:\n",
        "   print( h * x)\n",
        "elif h > 40:\n",
        "   print(40*x + (h-40)*1.5*x)\n",
        "Enter Hours:45\n",
        "Enter the Rate:10\n",
        "475.0"
      ],
      "execution_count": null,
      "outputs": []
    }
  ]
}
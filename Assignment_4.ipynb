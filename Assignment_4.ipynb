{
  "nbformat": 4,
  "nbformat_minor": 0,
  "metadata": {
    "colab": {
      "name": "Assignment 4",
      "provenance": [],
      "authorship_tag": "ABX9TyMsCHLyC8SDSj7PsV9zmhHN",
      "include_colab_link": true
    },
    "kernelspec": {
      "name": "python3",
      "display_name": "Python 3"
    }
  },
  "cells": [
    {
      "cell_type": "markdown",
      "metadata": {
        "id": "view-in-github",
        "colab_type": "text"
      },
      "source": [
        "<a href=\"https://colab.research.google.com/github/meghana5757/aasignment1/blob/master/Assignment_4.ipynb\" target=\"_parent\"><img src=\"https://colab.research.google.com/assets/colab-badge.svg\" alt=\"Open In Colab\"/></a>"
      ]
    },
    {
      "cell_type": "code",
      "metadata": {
        "id": "MXXCw02DgZ-1",
        "colab_type": "code",
        "colab": {}
      },
      "source": [
        " \n",
        "In [ ]:\n",
        "# add two numbers\n",
        "a=int(input('Enter a number'))\n",
        "b=int(input('Enter a number'))\n",
        "c=a+b\n",
        "print(c)\n",
        "Enter a number10\n",
        "Enter a number5\n",
        "15\n",
        "\n",
        "In [ ]:\n",
        "#input name of user\n",
        "a=('Hello')\n",
        "b=input('Enter your name')\n",
        "print(a,b)\n",
        "Enter your nameAshu\n",
        "Hello Ashu\n",
        "\n",
        "In [ ]:\n",
        "#input to prompt hours\n",
        "hours=float(input('Enter the hours'))\n",
        "rate= float(input('Enter the rate'))\n",
        "pay=hours*rate\n",
        "print('The amount to be payed is %2f'%pay)\n",
        "Enter the hours35\n",
        "Enter the rate2.75\n",
        "The amount to be payed is 96.250000\n",
        "\n",
        "In [ ]:\n",
        "#checking expression \n",
        "width=17\n",
        "height=12.0\n",
        "a=width//2\n",
        "b=width//2.0\n",
        "c=height/3\n",
        "d=1+2*5\n",
        "print(a)\n",
        "print(b)\n",
        "print(c)\n",
        "print(d)\n",
        "8\n",
        "8.0\n",
        "4.0\n",
        "11\n",
        "\n",
        "In [15]:\n",
        "#change this value for a different result\n",
        "celsius = 40.0\n",
        " \n",
        "# calculate fahrenheit\n",
        "fahrenheit = (celsius * 1.8) + 32\n",
        "print('%0.1f degree Celsius is equal to %0.1f degree Fahrenheit' %(celsius,fahrenheit))\n",
        "40.0 degree Celsius is equal to 104.0 degree Fahrenheit"
      ],
      "execution_count": null,
      "outputs": []
    }
  ]
}
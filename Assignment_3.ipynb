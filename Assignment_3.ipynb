{
  "nbformat": 4,
  "nbformat_minor": 0,
  "metadata": {
    "colab": {
      "name": "Assignment 3",
      "provenance": [],
      "authorship_tag": "ABX9TyPM2YahoVpaSi6jeeGrGu/l",
      "include_colab_link": true
    },
    "kernelspec": {
      "name": "python3",
      "display_name": "Python 3"
    }
  },
  "cells": [
    {
      "cell_type": "markdown",
      "metadata": {
        "id": "view-in-github",
        "colab_type": "text"
      },
      "source": [
        "<a href=\"https://colab.research.google.com/github/meghana5757/aasignment1/blob/master/Assignment_3.ipynb\" target=\"_parent\"><img src=\"https://colab.research.google.com/assets/colab-badge.svg\" alt=\"Open In Colab\"/></a>"
      ]
    },
    {
      "cell_type": "code",
      "metadata": {
        "id": "lkzCN7rma4HY",
        "colab_type": "code",
        "colab": {
          "base_uri": "https://localhost:8080/",
          "height": 34
        },
        "outputId": "9d5fe719-0333-4e5d-bcfb-9784d20c7576"
      },
      "source": [
        " # sum of the data in dictionary\n",
        "my_dict = {'data1':18,'data2':17,'data3':4803}\n",
        "print(sum(my_dict.values()))"
      ],
      "execution_count": 13,
      "outputs": [
        {
          "output_type": "stream",
          "text": [
            "4838\n"
          ],
          "name": "stdout"
        }
      ]
    },
    {
      "cell_type": "code",
      "metadata": {
        "id": "sJ7nayvDbhZ-",
        "colab_type": "code",
        "colab": {
          "base_uri": "https://localhost:8080/",
          "height": 51
        },
        "outputId": "b473a616-161b-4f07-b873-66b53a927a3a"
      },
      "source": [
        " # demonstrate accessing elements\n",
        "my_dict = {'name': 'baby', 'age': 3}\n",
        "print(my_dict['name'])\n",
        " print(my_dict.get('age'))"
      ],
      "execution_count": 12,
      "outputs": [
        {
          "output_type": "stream",
          "text": [
            "baby\n",
            "3\n"
          ],
          "name": "stdout"
        }
      ]
    },
    {
      "cell_type": "code",
      "metadata": {
        "id": "l71zE1uAcG9a",
        "colab_type": "code",
        "colab": {
          "base_uri": "https://localhost:8080/",
          "height": 51
        },
        "outputId": "7522f658-106a-4383-e697-5e64a53cfa13"
      },
      "source": [
        " # concate two dictionaries\n",
        "d1={'A':7,'B':6}\n",
        "d2={'C':5}\n",
        "d1.update(d2)\n",
        "print(\"Concatenated dictionary is:\")\n",
        "print(d1)"
      ],
      "execution_count": 16,
      "outputs": [
        {
          "output_type": "stream",
          "text": [
            "Concatenated dictionary is:\n",
            "{'A': 7, 'B': 6, 'C': 5}\n"
          ],
          "name": "stdout"
        }
      ]
    },
    {
      "cell_type": "code",
      "metadata": {
        "id": "pqmIK4fFcc2u",
        "colab_type": "code",
        "colab": {
          "base_uri": "https://localhost:8080/",
          "height": 71
        },
        "outputId": "1d468cd6-db53-4404-8b7c-e2d332cdc9af"
      },
      "source": [
        " # to add key values\n",
        "dict = {'a':'megha', 'b':'baby'}  \n",
        "print(\"Current Dict is: \", dict)\n",
        "dict1 = {'c':'sweety', 'd':'is', 'e':'fabulous'}  \n",
        "dict.update(dict1)  \n",
        " \n",
        "dict.update(new1 ='student')  \n",
        "print(dict)"
      ],
      "execution_count": 20,
      "outputs": [
        {
          "output_type": "stream",
          "text": [
            "Current Dict is:  {'a': 'megha', 'b': 'baby'}\n",
            "{'a': 'megha', 'b': 'baby', 'c': 'sweety', 'd': 'is', 'e': 'fabulous', 'new1': 'student'}\n"
          ],
          "name": "stdout"
        }
      ]
    },
    {
      "cell_type": "code",
      "metadata": {
        "id": "13pH13eCdVEt",
        "colab_type": "code",
        "colab": {
          "base_uri": "https://localhost:8080/",
          "height": 34
        },
        "outputId": "b16a3ac6-46b9-4cae-b9b5-74542237dc4b"
      },
      "source": [
        " # length of dictionary\n",
        "dict = {'Name': 'megha', 'Age': 10};\n",
        "print (\"Length : %d\" % len (dict))"
      ],
      "execution_count": 25,
      "outputs": [
        {
          "output_type": "stream",
          "text": [
            "Length : 2\n"
          ],
          "name": "stdout"
        }
      ]
    },
    {
      "cell_type": "code",
      "metadata": {
        "id": "DzAyVxmRdlI9",
        "colab_type": "code",
        "colab": {
          "base_uri": "https://localhost:8080/",
          "height": 34
        },
        "outputId": "8fbccaa9-d4f6-4bfd-c139-da93c84de6c7"
      },
      "source": [
        " # to remove item from dictionary\n",
        "dict = {  \"Name\": \"ashu\",  \"Age\": \"10\",  \"Roll.no\": 11}\n",
        "dict.pop(\"Roll.no\")\n",
        "print(dict)"
      ],
      "execution_count": 31,
      "outputs": [
        {
          "output_type": "stream",
          "text": [
            "{'Name': 'ashu', 'Age': '10'}\n"
          ],
          "name": "stdout"
        }
      ]
    }
  ]
}
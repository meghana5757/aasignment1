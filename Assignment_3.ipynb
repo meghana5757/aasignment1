{
  "nbformat": 4,
  "nbformat_minor": 0,
  "metadata": {
    "colab": {
      "name": "Assignment 3",
      "provenance": [],
      "authorship_tag": "ABX9TyPhCpWXF+3lJSnuTfFeFZFI",
      "include_colab_link": true
    },
    "kernelspec": {
      "name": "python3",
      "display_name": "Python 3"
    }
  },
  "cells": [
    {
      "cell_type": "markdown",
      "metadata": {
        "id": "view-in-github",
        "colab_type": "text"
      },
      "source": [
        "<a href=\"https://colab.research.google.com/github/meghana5757/aasignment1/blob/master/Assignment_3.ipynb\" target=\"_parent\"><img src=\"https://colab.research.google.com/assets/colab-badge.svg\" alt=\"Open In Colab\"/></a>"
      ]
    },
    {
      "cell_type": "code",
      "metadata": {
        "id": "F5IAMfYuZvIg",
        "colab_type": "code",
        "colab": {}
      },
      "source": [
        " add of numbers\n",
        "num1 = input('Enter first number: ')\n",
        "num2 = input('Enter second number: ')\n",
        " \n",
        "# Add two numbers\n",
        "sum = float(num1) + float(num2)\n",
        " \n",
        "# Display the sum\n",
        "print('The sum of {0} and {1} is {2}'.format(num1, num2, sum))#equal or not\n",
        "a = input(\"Enter the first number: \")\n",
        "b = input(\"Enter the second number: \")\n",
        "# if a is b: - Compares id's, and can cause inconsistencies. Use == instead.\n",
        "if a == b:\n",
        "  print (\"Both inputs are equal\") \n",
        "else:\n",
        "  print (\"Your input is not equal.\")\n",
        "In [ ]:\n",
        "#equal or not\n",
        "a = input(\"Enter the first number: \")\n",
        "b = input(\"Enter the second number: \")\n",
        "# if a is b: - Compares id's, and can cause inconsistencies. Use == instead.\n",
        "if a == b:\n",
        "  print (\"Both inputs are equal\") \n",
        "else:\n",
        "  print (\"Your input is not equal.\")\n",
        "\n",
        "In [8]:\n",
        "# Python Program to find Square root of a Number\n",
        " \n",
        "import math\n",
        " \n",
        "number = float(input(\" Please Enter any numeric Value : \"))\n",
        " \n",
        "squareRoot = math.sqrt(number)\n",
        " \n",
        "print(\"The Square Root of a Given Number {0}  = {1}\".format(number, squareRoot))  \n",
        "\n",
        "In [24]:\n",
        "# Solve the quadratic equation ax**2 + bx + c = 0\n",
        " \n",
        "# import complex math module\n",
        "import cmath\n",
        " \n",
        "a = 8\n",
        "b = 4\n",
        "c = 2\n",
        " \n",
        "# calculate the discriminant\n",
        "d = (b**2) - (4*a*c)\n",
        " \n",
        "# find two solutions\n",
        "sol1 = (-b-cmath.sqrt(d))/(2*a)\n",
        "sol2 = (-b+cmath.sqrt(d))/(2*a)\n",
        " \n",
        "print('The solution are {0} and {1}'.format(sol1,sol2))\n",
        "In [12]:\n",
        "#area of  triangle\n",
        "a=float(input('enter first side'))\n",
        "b=float(input('enter second side'))\n",
        "c=float(input('enter third side'))\n",
        "s=(a+b+c)/2\n",
        "area=(s*(s-a)*(s-b)*(s-c))**0.5\n",
        "print('the area of the triangle is %0.2f'%area)"
      ],
      "execution_count": null,
      "outputs": []
    }
  ]
}
{
  "nbformat": 4,
  "nbformat_minor": 0,
  "metadata": {
    "colab": {
      "name": "Tuple assignment",
      "provenance": [],
      "authorship_tag": "ABX9TyOedDXpjOZLPEazC5+ON4uH",
      "include_colab_link": true
    },
    "kernelspec": {
      "name": "python3",
      "display_name": "Python 3"
    }
  },
  "cells": [
    {
      "cell_type": "markdown",
      "metadata": {
        "id": "view-in-github",
        "colab_type": "text"
      },
      "source": [
        "<a href=\"https://colab.research.google.com/github/meghana5757/aasignment1/blob/master/Tuple_assignment.ipynb\" target=\"_parent\"><img src=\"https://colab.research.google.com/assets/colab-badge.svg\" alt=\"Open In Colab\"/></a>"
      ]
    },
    {
      "cell_type": "code",
      "metadata": {
        "id": "yGL5Oh2fTATH",
        "colab_type": "code",
        "colab": {
          "base_uri": "https://localhost:8080/",
          "height": 54
        },
        "outputId": "5d9babf9-53af-46a9-8074-61d61b9aa66b"
      },
      "source": [
        " # create dictionary from string\n",
        "str1 = 'w3resource' \n",
        "my_dict = {}\n",
        "for letter in str1:    \n",
        "    my_dict[letter] = my_dict.get(letter, 0) + 1\n",
        "print(my_dict)"
      ],
      "execution_count": 4,
      "outputs": [
        {
          "output_type": "stream",
          "text": [
            "{'w': 1, '3': 1, 'r': 2, 'e': 2, 's': 1, 'o': 1, 'u': 1, 'c': 1}\n"
          ],
          "name": "stdout"
        }
      ]
    },
    {
      "cell_type": "code",
      "metadata": {
        "id": "HXg4NF6OTjKA",
        "colab_type": "code",
        "colab": {
          "base_uri": "https://localhost:8080/",
          "height": 85
        },
        "outputId": "bea23984-9e20-4055-dc90-f6d5c44fa11d"
      },
      "source": [
        " #to create and display letters\n",
        "import itertools      \n",
        "d ={'1':['a','b'], '2':['c','d']}\n",
        "for combo in itertools.product(*[d[k] for k in sorted(d.keys())]):\n",
        "    print(''.join(combo))"
      ],
      "execution_count": 6,
      "outputs": [
        {
          "output_type": "stream",
          "text": [
            "ac\n",
            "ad\n",
            "bc\n",
            "bd\n"
          ],
          "name": "stdout"
        }
      ]
    },
    {
      "cell_type": "code",
      "metadata": {
        "id": "vaXz9ZT2UBfv",
        "colab_type": "code",
        "colab": {
          "base_uri": "https://localhost:8080/",
          "height": 34
        },
        "outputId": "20a7e1d3-586a-4705-c540-8db3c090b4e4"
      },
      "source": [
        " # convert tuple to string\n",
        "tup = ('m', 'e', 'g', 'h', 'a', 'n', 'a') \n",
        "str =  ''.join(tup)\n",
        "print(str)"
      ],
      "execution_count": 8,
      "outputs": [
        {
          "output_type": "stream",
          "text": [
            "meghana\n"
          ],
          "name": "stdout"
        }
      ]
    },
    {
      "cell_type": "code",
      "metadata": {
        "id": "RZIHQUwlUSqf",
        "colab_type": "code",
        "colab": {
          "base_uri": "https://localhost:8080/",
          "height": 85
        },
        "outputId": "a0510fab-8e51-43b2-f7f3-7a3d7e7f5066"
      },
      "source": [
        " # to slice a tuple\n",
        "my_tuple = ('t', 'h', 'a', 't')\n",
        "print(my_tuple[:1]) \n",
        "print(my_tuple[2:]) \n",
        "print(my_tuple[0:2]) \n",
        "print(my_tuple[::3])"
      ],
      "execution_count": 10,
      "outputs": [
        {
          "output_type": "stream",
          "text": [
            "('t',)\n",
            "('a', 't')\n",
            "('t', 'h')\n",
            "('t', 't')\n"
          ],
          "name": "stdout"
        }
      ]
    },
    {
      "cell_type": "code",
      "metadata": {
        "id": "fS4hqi7AUvHE",
        "colab_type": "code",
        "colab": {
          "base_uri": "https://localhost:8080/",
          "height": 34
        },
        "outputId": "2924095a-d7e6-46ee-d9eb-b9d8e09c811c"
      },
      "source": [
        " #create a tuple\n",
        "tuplex = tuple(\"banglore gitam\")\n",
        "print(len(tuplex))"
      ],
      "execution_count": 13,
      "outputs": [
        {
          "output_type": "stream",
          "text": [
            "14\n"
          ],
          "name": "stdout"
        }
      ]
    }
  ]
}